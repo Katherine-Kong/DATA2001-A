{
 "cells": [
  {
   "cell_type": "code",
   "execution_count": 16,
   "id": "e4d553ad-47ff-4db1-b8e3-70d38b3d3b2a",
   "metadata": {},
   "outputs": [],
   "source": [
    "import pandas as pd\n",
    "import numpy as np"
   ]
  },
  {
   "cell_type": "code",
   "execution_count": 17,
   "id": "4da22519-05d1-4178-9ebd-9ec33a0de0dc",
   "metadata": {},
   "outputs": [
    {
     "data": {
      "text/html": [
       "<div>\n",
       "<style scoped>\n",
       "    .dataframe tbody tr th:only-of-type {\n",
       "        vertical-align: middle;\n",
       "    }\n",
       "\n",
       "    .dataframe tbody tr th {\n",
       "        vertical-align: top;\n",
       "    }\n",
       "\n",
       "    .dataframe thead th {\n",
       "        text-align: right;\n",
       "    }\n",
       "</style>\n",
       "<table border=\"1\" class=\"dataframe\">\n",
       "  <thead>\n",
       "    <tr style=\"text-align: right;\">\n",
       "      <th></th>\n",
       "      <th>sa2_code21</th>\n",
       "      <th>sa2_name</th>\n",
       "      <th>earners</th>\n",
       "      <th>median_age</th>\n",
       "      <th>median_income</th>\n",
       "      <th>mean_income</th>\n",
       "    </tr>\n",
       "  </thead>\n",
       "  <tbody>\n",
       "    <tr>\n",
       "      <th>0</th>\n",
       "      <td>101021007</td>\n",
       "      <td>Braidwood</td>\n",
       "      <td>2467</td>\n",
       "      <td>51</td>\n",
       "      <td>46640</td>\n",
       "      <td>68904</td>\n",
       "    </tr>\n",
       "    <tr>\n",
       "      <th>1</th>\n",
       "      <td>101021008</td>\n",
       "      <td>Karabar</td>\n",
       "      <td>5103</td>\n",
       "      <td>42</td>\n",
       "      <td>65564</td>\n",
       "      <td>69672</td>\n",
       "    </tr>\n",
       "    <tr>\n",
       "      <th>2</th>\n",
       "      <td>101021009</td>\n",
       "      <td>Queanbeyan</td>\n",
       "      <td>7028</td>\n",
       "      <td>39</td>\n",
       "      <td>63528</td>\n",
       "      <td>69174</td>\n",
       "    </tr>\n",
       "    <tr>\n",
       "      <th>3</th>\n",
       "      <td>101021010</td>\n",
       "      <td>Queanbeyan - East</td>\n",
       "      <td>3398</td>\n",
       "      <td>39</td>\n",
       "      <td>66148</td>\n",
       "      <td>74162</td>\n",
       "    </tr>\n",
       "    <tr>\n",
       "      <th>4</th>\n",
       "      <td>101021012</td>\n",
       "      <td>Queanbeyan West - Jerrabomberra</td>\n",
       "      <td>8422</td>\n",
       "      <td>44</td>\n",
       "      <td>78630</td>\n",
       "      <td>91981</td>\n",
       "    </tr>\n",
       "  </tbody>\n",
       "</table>\n",
       "</div>"
      ],
      "text/plain": [
       "   sa2_code21                         sa2_name earners median_age  \\\n",
       "0   101021007                        Braidwood    2467         51   \n",
       "1   101021008                          Karabar    5103         42   \n",
       "2   101021009                       Queanbeyan    7028         39   \n",
       "3   101021010                Queanbeyan - East    3398         39   \n",
       "4   101021012  Queanbeyan West - Jerrabomberra    8422         44   \n",
       "\n",
       "  median_income mean_income  \n",
       "0         46640       68904  \n",
       "1         65564       69672  \n",
       "2         63528       69174  \n",
       "3         66148       74162  \n",
       "4         78630       91981  "
      ]
     },
     "execution_count": 17,
     "metadata": {},
     "output_type": "execute_result"
    }
   ],
   "source": [
    "# Load your dataset\n",
    "df = pd.read_csv('Income.csv')\n",
    "\n",
    "# 1. Rename column names to lowercase\n",
    "df.columns = df.columns.str.lower()\n",
    "\n",
    "# 2. Replace spaces with underscores\n",
    "df.columns = df.columns.str.replace(' ', '_')\n",
    "\n",
    "# 3. Replace hyphens with underscores\n",
    "df.columns = df.columns.str.replace('-', '_')\n",
    "\n",
    "# 4. Drop rows with null values\n",
    "df.dropna(inplace=True)\n",
    "\n",
    "df.to_csv('i_cleaned.csv', index=False)\n",
    "\n",
    "# View the cleaned DataFrame\n",
    "df.head()\n"
   ]
  },
  {
   "cell_type": "code",
   "execution_count": 25,
   "id": "e105a5bf-ba91-4c51-8520-e3c110ba5f67",
   "metadata": {},
   "outputs": [
    {
     "name": "stdout",
     "output_type": "stream",
     "text": [
      "✅ All clean! File saved as 'stops_cleaned.csv'\n",
      "       id                                  name        lat         lon\n",
      "0  200039     Central Station, Eddy Av, Stand A -33.882206  151.206665\n",
      "1  200054     Central Station, Eddy Av, Stand D -33.882042  151.206991\n",
      "2  200060                       Central Station -33.884084  151.206292\n",
      "3  201510                       Redfern Station -33.891690  151.198866\n",
      "4  201646  Redfern Station, Gibbons St, Stand B -33.893329  151.198882\n"
     ]
    }
   ],
   "source": [
    "\n",
    "# Step 1: Load again (just in case you're starting fresh)\n",
    "stops_df = pd.read_csv(\"Stops.txt\")\n",
    "\n",
    "# Step 2: Keep only the useful columns\n",
    "stops_df = stops_df[['stop_id', 'stop_name', 'stop_lat', 'stop_lon']]\n",
    "\n",
    "# Step 3: Drop rows with missing lat/lon\n",
    "stops_df.dropna(subset=['stop_lat', 'stop_lon'], inplace=True)\n",
    "\n",
    "# Step 4: Rename columns to lowercase (clean and neat)\n",
    "stops_df.rename(columns={\n",
    "    'stop_id': 'id',\n",
    "    'stop_name': 'name',\n",
    "    'stop_lat': 'lat',\n",
    "    'stop_lon': 'lon'\n",
    "}, inplace=True)\n",
    "\n",
    "# Step 5: Save it to a new CSV file\n",
    "stops_df.to_csv(\"stops_cleaned.csv\", index=False)\n",
    "\n",
    "print(\"✅ All clean! File saved as 'stops_cleaned.csv'\")\n",
    "# Preview it\n",
    "print(stops_df.head())\n"
   ]
  },
  {
   "cell_type": "code",
   "execution_count": null,
   "id": "800737c5-2cd2-4e29-8673-59fdf4d7c08b",
   "metadata": {},
   "outputs": [],
   "source": []
  }
 ],
 "metadata": {
  "kernelspec": {
   "display_name": "Python 3 (ipykernel)",
   "language": "python",
   "name": "python3"
  },
  "language_info": {
   "codemirror_mode": {
    "name": "ipython",
    "version": 3
   },
   "file_extension": ".py",
   "mimetype": "text/x-python",
   "name": "python",
   "nbconvert_exporter": "python",
   "pygments_lexer": "ipython3",
   "version": "3.12.4"
  }
 },
 "nbformat": 4,
 "nbformat_minor": 5
}
