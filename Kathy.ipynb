{
 "cells": [
  {
   "cell_type": "code",
   "execution_count": 8,
   "id": "886f8535-38ca-439a-aa9d-181e9b3b5b37",
   "metadata": {},
   "outputs": [
    {
     "name": "stdout",
     "output_type": "stream",
     "text": [
      "Cleaned columns: ['sa2_code', 'sa2_name', '0_4_people', '5_9_people', '10_14_people', '15_19_people', '20_24_people', '25_29_people', '30_34_people', '35_39_people', '40_44_people', '45_49_people', '50_54_people', '55_59_people', '60_64_people', '65_69_people', '70_74_people', '75_79_people', '80_84_people', '85_and_over_people', 'total_people']\n",
      "<class 'pandas.core.frame.DataFrame'>\n",
      "RangeIndex: 373 entries, 0 to 372\n",
      "Data columns (total 21 columns):\n",
      " #   Column              Non-Null Count  Dtype \n",
      "---  ------              --------------  ----- \n",
      " 0   sa2_code            373 non-null    int64 \n",
      " 1   sa2_name            373 non-null    object\n",
      " 2   0_4_people          373 non-null    int64 \n",
      " 3   5_9_people          373 non-null    int64 \n",
      " 4   10_14_people        373 non-null    int64 \n",
      " 5   15_19_people        373 non-null    int64 \n",
      " 6   20_24_people        373 non-null    int64 \n",
      " 7   25_29_people        373 non-null    int64 \n",
      " 8   30_34_people        373 non-null    int64 \n",
      " 9   35_39_people        373 non-null    int64 \n",
      " 10  40_44_people        373 non-null    int64 \n",
      " 11  45_49_people        373 non-null    int64 \n",
      " 12  50_54_people        373 non-null    int64 \n",
      " 13  55_59_people        373 non-null    int64 \n",
      " 14  60_64_people        373 non-null    int64 \n",
      " 15  65_69_people        373 non-null    int64 \n",
      " 16  70_74_people        373 non-null    int64 \n",
      " 17  75_79_people        373 non-null    int64 \n",
      " 18  80_84_people        373 non-null    int64 \n",
      " 19  85_and_over_people  373 non-null    int64 \n",
      " 20  total_people        373 non-null    int64 \n",
      "dtypes: int64(20), object(1)\n",
      "memory usage: 61.3+ KB\n",
      "None\n",
      "sa2_code              0\n",
      "sa2_name              0\n",
      "0_4_people            0\n",
      "5_9_people            0\n",
      "10_14_people          0\n",
      "15_19_people          0\n",
      "20_24_people          0\n",
      "25_29_people          0\n",
      "30_34_people          0\n",
      "35_39_people          0\n",
      "40_44_people          0\n",
      "45_49_people          0\n",
      "50_54_people          0\n",
      "55_59_people          0\n",
      "60_64_people          0\n",
      "65_69_people          0\n",
      "70_74_people          0\n",
      "75_79_people          0\n",
      "80_84_people          0\n",
      "85_and_over_people    0\n",
      "total_people          0\n",
      "dtype: int64\n"
     ]
    }
   ],
   "source": [
    "import pandas as pd\n",
    "\n",
    "# Load the data\n",
    "population = pd.read_csv(\"Population.csv\")\n",
    "\n",
    "# Clean column names: lowercase, replace hyphens with underscores\n",
    "population.columns = (\n",
    "    population.columns\n",
    "    .str.lower()\n",
    "    .str.replace(\"-\", \"_\")\n",
    "    .str.replace(\" \", \"_\")\n",
    ")\n",
    "\n",
    "# Show cleaned columns\n",
    "print(\"Cleaned columns:\", population.columns.tolist())\n",
    "\n",
    "# Confirm data types and nulls (should be fine)\n",
    "print(population.info())\n",
    "print(population.isnull().sum())\n",
    "\n",
    "# Optional: Save cleaned version for PostgreSQL import\n",
    "population.to_csv(\"p_cleaned.csv\", index=False)\n"
   ]
  },
  {
   "cell_type": "code",
   "execution_count": null,
   "id": "424a8064-1dfb-4908-a729-ced261c757f9",
   "metadata": {},
   "outputs": [],
   "source": []
  },
  {
   "cell_type": "code",
   "execution_count": null,
   "id": "d0683e10-a2bc-4653-8949-46848d8247b8",
   "metadata": {},
   "outputs": [],
   "source": []
  }
 ],
 "metadata": {
  "kernelspec": {
   "display_name": "Python [conda env:base] *",
   "language": "python",
   "name": "conda-base-py"
  },
  "language_info": {
   "codemirror_mode": {
    "name": "ipython",
    "version": 3
   },
   "file_extension": ".py",
   "mimetype": "text/x-python",
   "name": "python",
   "nbconvert_exporter": "python",
   "pygments_lexer": "ipython3",
   "version": "3.12.7"
  }
 },
 "nbformat": 4,
 "nbformat_minor": 5
}
