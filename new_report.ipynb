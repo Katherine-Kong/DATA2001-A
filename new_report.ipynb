{
 "cells": [
  {
   "cell_type": "markdown",
   "id": "55f501a6-6c65-4065-b78c-398c8ac7d048",
   "metadata": {},
   "source": [
    "# DATA2001 Assignment - Team 3 Report\n",
    "\n",
    "**Group Name**: Data Princesses\n",
    "\n",
    "**Team Members**: Michella Krishna, Yujia Liu, Katherine Kong\n",
    "\n",
    "**Region Focus**: City and Inner South, North Sydney and Hornsby, Inner West "
   ]
  },
  {
   "cell_type": "markdown",
   "id": "7e137543-505c-482a-b673-f1edb018b9d1",
   "metadata": {},
   "source": [
    "## 1. Dataset Description \n",
    "Several data sources were used to compute accessibility scores across SA2 regions, each selected for their relevance to local resources.\n",
    "\n",
    "- **Businesses**  \n",
    "  Provided by the [Australian Bureau of Statistics](https://www.abs.gov.au/statistics/economy/business-indicators/counts-australian-businesses-including-entries-and-exits/latest-release#data-downloads). This file contains business counts by industry and turnover range for each SA2. The `total_businesses` field was used to calculate business density per 1,000 people in selected sectors.\n",
    "\n",
    "- **Income**  \n",
    "  Sourced from the [Canvas](https://canvas.sydney.edu.au/courses/62985/files/40497761?module_item_id=2534409). Includes variables such as `median_income` by SA2. These fields were used to assess the economic situation of each region.\n",
    "\n",
    "- **Population**  \n",
    "  Sourced from [Canvas](https://canvas.sydney.edu.au/courses/62985/files/40497767?module_item_id=2534407), reports population counts by age groups. Fields including `total_people` and youth segments (`10_14_people`) were used to support normalization and school-related metrics.\n",
    "\n",
    "- **Stops**  \n",
    "  Sourced from [Transport for NSW](https://opendata.transport.nsw.gov.au/dataset/timetables-complete-gtfs). Includes public transport stops with geographic coordinates and SA2 codes. Stop counts were calculated per region.\n",
    "\n",
    "- **School Catchments**  \n",
    "  Provided by the [NSW Department of Education](https://data.cese.nsw.gov.au/data/dataset/school-intake-zones-catchment-areas-for-nsw-government-schools). Includes shapefiles for primary, secondary, and future school catchment zones. These spatial layers were used to evaluate school accessibility.\n",
    "\n",
    "- **POI**  \n",
    "  Extracted using the [NSW Points of Interest API](https://data.nsw.gov.au/data/dataset/nsw-points-of-interest-poi/resource/f4b643b4-a872-4b63-bbb5-5b768bacbc78). Contains locations of community facilities identified within each SA2 bounding box. Relevant POIs were counted to represent local amenity access."
   ]
  },
  {
   "cell_type": "markdown",
   "id": "39da8c49-6aa9-446f-bc81-ea5e77c2e9c9",
   "metadata": {},
   "source": [
    "## 2. Database Description (1.5 marks)\n",
    "\n"
   ]
  },
  {
   "cell_type": "markdown",
   "id": "909da85a-854a-4ad0-8c30-552b0d74ba8d",
   "metadata": {},
   "source": [
    "## 3. Result Analysis (3 marks)\n",
    "\n",
    "### 3.1 Formula Rationale\n",
    "To calculate the final score for each SA2 region, four indicators were chosen: **stops**, **schools**, **parks as POI**, and **businesses (retail industry)**. These factors were selected because they reflect important aspects of **local accessibility**, **education**, **community facilities**, and **economic activity**.\n",
    "\n",
    "Each metric was converted into a **z-score** to standardize their values and allow fair comparison across different scales. The four z-scores were then **added together**, assuming **equal importance** for each component.\n",
    "\n",
    "Finally, a **sigmoid function** was applied to the total score to scale it between 0 and 1, making the results easier to interpret and compare across regions."
   ]
  },
  {
   "cell_type": "markdown",
   "id": "03194f58-1877-4825-978b-a082c43c8cef",
   "metadata": {},
   "source": [
    "### 3.2 Analysis for Inner West\n",
    "\n",
    "#### 3.2.1 Component Impact on Final Scores\n",
    "The correlation values show how each metric influences the final score. In Inner West, **stops**, **parks**, and **businesses** have the strongest correlations with the final score, meaning they contribute more to score variation. **Schools** has a weak correlation, suggesting school access is more evenly spread across regions.\n",
    "\n",
    "\n",
    "#### 3.2.2 Distribution of Scores\n",
    "The distribution of final scores in Inner West appears relatively even, with no extreme clustering. \n",
    "This wide spread indicates that access to key resources in Inner West is **uneven** across different areas.\n",
    "![Distribution of Final Scores - Inner West](Graphs/K_bar.png)\n",
    "\n",
    "The map visual shows how final resource scores are distributed across SA2 regions in Inner West. Overall, higher scores tend to cluster in the northwestern part of the region (except for a few outliers), suggesting those areas are more well-resourced. In contrast, regions in the southeastern section display lighter shades, indicating relatively lower resource availability. \n",
    "\n",
    "#### 3.2.3 Notable Trends or Regions\n",
    "\n",
    "The table shows the top three and bottom three SA2 regions by final score. These highlight the range of resource access across Inner West, with noticeable gaps between the highest and lowest scoring areas. \n",
    "This reflects particular scores of interest and uneven distribution worth noting in the analysis.\n",
    "\n",
    "## 4. Correlation Analysis (2 marks)\n",
    "Analysis between final scores and median income.\n",
    "- 📈 ![Correlation Plot](images/correlation_plot.png)\n",
    "\n",
    "## 5. Conclusion\n",
    "Key findings and what they suggest.\n",
    "\n",
    "## 6. References\n",
    "Data sources, APIs, documentation.\n",
    "\n",
    "## 7. Appendices\n",
    "- Supplementary tables or extended visuals (if needed)."
   ]
  },
  {
   "cell_type": "code",
   "execution_count": null,
   "id": "883c106d-2a64-486c-9fa6-eb6fc54c08ac",
   "metadata": {},
   "outputs": [],
   "source": []
  }
 ],
 "metadata": {
  "kernelspec": {
   "display_name": "Python [conda env:base] *",
   "language": "python",
   "name": "conda-base-py"
  },
  "language_info": {
   "codemirror_mode": {
    "name": "ipython",
    "version": 3
   },
   "file_extension": ".py",
   "mimetype": "text/x-python",
   "name": "python",
   "nbconvert_exporter": "python",
   "pygments_lexer": "ipython3",
   "version": "3.12.7"
  }
 },
 "nbformat": 4,
 "nbformat_minor": 5
}
