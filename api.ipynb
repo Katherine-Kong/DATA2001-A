{
 "cells": [
  {
   "cell_type": "code",
   "execution_count": 29,
   "id": "1a03f4a5-caaf-44ac-bd65-be7a693204ee",
   "metadata": {},
   "outputs": [],
   "source": [
    "import geopandas as gd"
   ]
  },
  {
   "cell_type": "code",
   "execution_count": 31,
   "id": "1a44db52-b59d-4da7-b38e-b560cb121e65",
   "metadata": {},
   "outputs": [
    {
     "name": "stdout",
     "output_type": "stream",
     "text": [
      "Index(['SA2_CODE21', 'SA2_NAME21', 'CHG_FLAG21', 'CHG_LBL21', 'SA3_CODE21',\n",
      "       'SA3_NAME21', 'SA4_CODE21', 'SA4_NAME21', 'GCC_CODE21', 'GCC_NAME21',\n",
      "       'STE_CODE21', 'STE_NAME21', 'AUS_CODE21', 'AUS_NAME21', 'AREASQKM21',\n",
      "       'LOCI_URI21', 'geometry'],\n",
      "      dtype='object')\n"
     ]
    }
   ],
   "source": [
    "import geopandas as gpd\n",
    "\n",
    "# Load the shapefile\n",
    "gdf = gpd.read_file('SA2_regions/SA2_2021_AUST_GDA2020.shp')\n",
    "\n",
    "# See what columns exist\n",
    "print(gdf.columns)\n"
   ]
  },
  {
   "cell_type": "code",
   "execution_count": 37,
   "id": "3053109e-ec51-47e5-a9bf-6e09048cf335",
   "metadata": {},
   "outputs": [
    {
     "name": "stdout",
     "output_type": "stream",
     "text": [
      "                               SA2_NAME21                         SA4_NAME21\n",
      "453    Chatswood (West) - Lane Cove North  Sydney - North Sydney and Hornsby\n",
      "454               St Leonards - Naremburn  Sydney - North Sydney and Hornsby\n",
      "455                              Artarmon  Sydney - North Sydney and Hornsby\n",
      "456             Castle Cove - Northbridge  Sydney - North Sydney and Hornsby\n",
      "457                      Chatswood - East  Sydney - North Sydney and Hornsby\n",
      "458                 Greenwich - Riverview  Sydney - North Sydney and Hornsby\n",
      "459                             Lane Cove  Sydney - North Sydney and Hornsby\n",
      "460                            Willoughby  Sydney - North Sydney and Hornsby\n",
      "461                 Asquith - Mount Colah  Sydney - North Sydney and Hornsby\n",
      "462            Berowra - Brooklyn - Cowan  Sydney - North Sydney and Hornsby\n",
      "463  Normanhurst - Thornleigh - Westleigh  Sydney - North Sydney and Hornsby\n",
      "464                        Hornsby - East  Sydney - North Sydney and Hornsby\n",
      "465                        Hornsby - West  Sydney - North Sydney and Hornsby\n",
      "466            Wahroonga (West) - Waitara  Sydney - North Sydney and Hornsby\n",
      "467                      Gordon - Killara  Sydney - North Sydney and Hornsby\n",
      "468                 Lindfield - Roseville  Sydney - North Sydney and Hornsby\n",
      "469                                Pymble  Sydney - North Sydney and Hornsby\n",
      "470                               St Ives  Sydney - North Sydney and Hornsby\n",
      "471                            Turramurra  Sydney - North Sydney and Hornsby\n",
      "472           Wahroonga (East) - Warrawee  Sydney - North Sydney and Hornsby\n",
      "473                   Cremorne - Cammeray  Sydney - North Sydney and Hornsby\n",
      "474                 Crows Nest - Waverton  Sydney - North Sydney and Hornsby\n",
      "475              Neutral Bay - Kirribilli  Sydney - North Sydney and Hornsby\n",
      "476           North Sydney - Lavender Bay  Sydney - North Sydney and Hornsby\n",
      "477                        Mosman - North  Sydney - North Sydney and Hornsby\n",
      "478                        Mosman - South  Sydney - North Sydney and Hornsby\n"
     ]
    }
   ],
   "source": [
    "# Filter SA2s where the SA4 is Hornsby or North Sydney\n",
    "\n",
    "#print(gdf['SA4_NAME21'].unique())\n",
    "\n",
    "filtered = gdf[gdf['SA4_NAME21'] == 'Sydney - North Sydney and Hornsby']\n",
    "\n",
    "# Check the results\n",
    "print(filtered[['SA2_NAME21', 'SA4_NAME21']])\n"
   ]
  },
  {
   "cell_type": "code",
   "execution_count": 39,
   "id": "f16848df-f0fc-442d-8cac-69af359e557d",
   "metadata": {},
   "outputs": [],
   "source": [
    "filtered.to_file('filtered_hornsby_northsydney.geojson', driver='GeoJSON')"
   ]
  },
  {
   "cell_type": "code",
   "execution_count": null,
   "id": "af01a3de-2147-4295-a40c-ab1742ed7636",
   "metadata": {},
   "outputs": [],
   "source": []
  }
 ],
 "metadata": {
  "kernelspec": {
   "display_name": "Python 3 (ipykernel)",
   "language": "python",
   "name": "python3"
  },
  "language_info": {
   "codemirror_mode": {
    "name": "ipython",
    "version": 3
   },
   "file_extension": ".py",
   "mimetype": "text/x-python",
   "name": "python",
   "nbconvert_exporter": "python",
   "pygments_lexer": "ipython3",
   "version": "3.12.4"
  }
 },
 "nbformat": 4,
 "nbformat_minor": 5
}
