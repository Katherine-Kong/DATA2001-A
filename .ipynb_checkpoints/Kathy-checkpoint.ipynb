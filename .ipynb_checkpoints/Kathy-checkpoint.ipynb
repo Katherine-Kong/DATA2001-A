{
 "cells": [
  {
   "cell_type": "code",
   "execution_count": 6,
   "id": "886f8535-38ca-439a-aa9d-181e9b3b5b37",
   "metadata": {},
   "outputs": [
    {
     "name": "stdout",
     "output_type": "stream",
     "text": [
      "Cleaned columns: ['sa2_code', 'sa2_name', '0_4_people', '5_9_people', '10_14_people', '15_19_people', '20_24_people', '25_29_people', '30_34_people', '35_39_people', '40_44_people', '45_49_people', '50_54_people', '55_59_people', '60_64_people', '65_69_people', '70_74_people', '75_79_people', '80_84_people', '85_and_over_people', 'total_people']\n"
     ]
    }
   ],
   "source": [
    "import pandas as pd\n",
    "\n",
    "# Load the data\n",
    "population = pd.read_csv(\"Population.csv\")\n",
    "\n",
    "# Clean column names: lowercase, replace hyphens with underscores\n",
    "population.columns = (\n",
    "    population.columns\n",
    "    .str.lower()\n",
    "    .str.replace(\"-\", \"_\")\n",
    "    .str.replace(\" \", \"_\")\n",
    ")\n",
    "\n",
    "# Show cleaned columns\n",
    "print(\"Cleaned columns:\", population.columns.tolist())\n",
    "\n",
    "# Optional: Save cleaned version for PostgreSQL import\n",
    "population.to_csv(\"p_cleaned.csv\", index=False)\n"
   ]
  },
  {
   "cell_type": "code",
   "execution_count": null,
   "id": "424a8064-1dfb-4908-a729-ced261c757f9",
   "metadata": {},
   "outputs": [],
   "source": []
  },
  {
   "cell_type": "code",
   "execution_count": null,
   "id": "d0683e10-a2bc-4653-8949-46848d8247b8",
   "metadata": {},
   "outputs": [],
   "source": []
  }
 ],
 "metadata": {
  "kernelspec": {
   "display_name": "Python [conda env:base] *",
   "language": "python",
   "name": "conda-base-py"
  },
  "language_info": {
   "codemirror_mode": {
    "name": "ipython",
    "version": 3
   },
   "file_extension": ".py",
   "mimetype": "text/x-python",
   "name": "python",
   "nbconvert_exporter": "python",
   "pygments_lexer": "ipython3",
   "version": "3.12.7"
  }
 },
 "nbformat": 4,
 "nbformat_minor": 5
}
