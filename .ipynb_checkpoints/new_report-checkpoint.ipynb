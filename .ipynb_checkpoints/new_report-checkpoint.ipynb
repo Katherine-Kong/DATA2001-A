{
 "cells": [
  {
   "cell_type": "markdown",
   "id": "55f501a6-6c65-4065-b78c-398c8ac7d048",
   "metadata": {},
   "source": [
    "# DATA2001 Assignment - Team 3 Report\n",
    "\n",
    "**Team Members**: Michella Krishna, Yujia Liu, Katherine Kong\n",
    "\n",
    "**Region Focus**: City and Inner South, North Sydney and Hornsby, Inner West "
   ]
  },
  {
   "cell_type": "markdown",
   "id": "7e137543-505c-482a-b673-f1edb018b9d1",
   "metadata": {},
   "source": [
    "## 1. Dataset Description \n",
    "Several data sources were used to compute accessibility scores across SA2 regions, each selected for their relevance to local resources.\n",
    "\n",
    "- **Businesses**  \n",
    "  Provided by the [Australian Bureau of Statistics](https://www.abs.gov.au/statistics/economy/business-indicators/counts-australian-businesses-including-entries-and-exits/latest-release#data-downloads). This file contains business counts by industry and turnover range for each SA2. The `total_businesses` field was used to calculate business density per 1,000 people in selected sectors.\n",
    "\n",
    "- **Income**  \n",
    "  Sourced from the [Canvas](https://canvas.sydney.edu.au/courses/62985/files/40497761?module_item_id=2534409). Includes variables such as `median_income` by SA2. These fields were used to assess the economic situation of each region.\n",
    "\n",
    "- **Population**  \n",
    "  Sourced from [Canvas](https://canvas.sydney.edu.au/courses/62985/files/40497767?module_item_id=2534407), reports population counts by age groups. Fields including `total_people` and youth segments (`10_14_people`) were used to support normalization and school-related metrics.\n",
    "\n",
    "- **Stops**  \n",
    "  Sourced from [Transport for NSW](https://opendata.transport.nsw.gov.au/dataset/timetables-complete-gtfs). Includes public transport stops with geographic coordinates and SA2 codes. Stop counts were calculated per region.\n",
    "\n",
    "- **School Catchments**  \n",
    "  Provided by the [NSW Department of Education](https://data.cese.nsw.gov.au/data/dataset/school-intake-zones-catchment-areas-for-nsw-government-schools). Includes shapefiles for primary, secondary, and future school catchment zones. These spatial layers were used to evaluate school accessibility.\n",
    "\n",
    "- **POI**  \n",
    "  Extracted using the [NSW Points of Interest API](https://data.nsw.gov.au/data/dataset/nsw-points-of-interest-poi/resource/f4b643b4-a872-4b63-bbb5-5b768bacbc78). Contains locations of community facilities identified within each SA2 bounding box. Relevant POIs were counted to represent local amenity access."
   ]
  },
  {
   "cell_type": "markdown",
   "id": "39da8c49-6aa9-446f-bc81-ea5e77c2e9c9",
   "metadata": {},
   "source": [
    "## 2. Database Description\n",
    "\n"
   ]
  },
  {
   "cell_type": "markdown",
   "id": "978f92f9-8fe1-4073-85c6-022ffb5f937e",
   "metadata": {},
   "source": [
    "#### Database Schema\n",
    "<div style=\"text-align: center;\">\n",
    "  <img src=\"Graphs/database_schema.png\" alt=\"Database Schema\" style=\"width:30%;\">\n",
    "</div>"
   ]
  },
  {
   "cell_type": "markdown",
   "id": "909da85a-854a-4ad0-8c30-552b0d74ba8d",
   "metadata": {},
   "source": [
    "## 3. Result Analysis \n",
    "\n",
    "### 3.1 Formula Rationale\n",
    "To calculate the final score for each SA2 region, four indicators were chosen: **stops**, **schools**, **parks as POI**, and **businesses (retail industry)**. These factors were selected because they reflect important aspects of **local accessibility**, **education**, **community facilities**, and **economic activity**.\n",
    "\n",
    "Each metric was converted into a **z-score** to standardize their values and allow fair comparison across different scales. The four z-scores were then **added together**, assuming **equal importance** for each component.\n",
    "\n",
    "Finally, a **sigmoid function** was applied to the total score to scale it between 0 and 1, making the results easier to interpret and compare across regions."
   ]
  },
  {
   "cell_type": "markdown",
   "id": "03194f58-1877-4825-978b-a082c43c8cef",
   "metadata": {},
   "source": [
    "### 3.2 Analysis for Inner West\n",
    "\n",
    "#### 3.2.1 Component Impact on Final Scores\n",
    "<div style=\"text-align: center;\">\n",
    "  <img src=\"Graphs/K_table_1.png\" alt=\"Score Distribution\" style=\"width:30%;\">\n",
    "</div>\n",
    "\n",
    "The correlation values show how each metric influences the final score. In Inner West, **stops**, **parks**, and **businesses** have the strongest correlations with the final score, meaning they contribute more to score variation. **Schools** has a weak correlation, suggesting school access is more evenly spread across regions."
   ]
  },
  {
   "cell_type": "markdown",
   "id": "4007b2c1-509d-4ed3-b61d-3ed6ea528f1c",
   "metadata": {},
   "source": [
    "#### 3.2.2 Distribution of Scores\n",
    "<div style=\"display: flex; justify-content: center; gap: 40px; align-items: flex-start; max-width: 1000px; margin: 0 auto;\">\n",
    "\n",
    "  <div style=\"text-align: center;\">\n",
    "    <img src=\"Graphs/K_bar.png\" alt=\"Score Distribution Bar Chart\" style=\"height: 280px;\"><br>\n",
    "    <p style=\"max-width: 300px; margin: 8px auto;\">\n",
    "      The distribution of final scores in Inner West appears relatively even, with no extreme clustering. This wide spread indicates that access to key resources in Inner West is <strong>uneven</strong> across different areas.\n",
    "    </p>\n",
    "  </div>\n",
    "\n",
    "  <div style=\"text-align: center;\">\n",
    "    <img src=\"Graphs/K_map.png\" alt=\"Map Visual\" style=\"height: 280px;\"><br>\n",
    "    <p style=\"max-width: 300px; margin: 8px auto;\">\n",
    "      The map visual shows how final resource scores are distributed across SA2 regions in Inner West. Overall, higher scores tend to cluster in the northwestern part of the region (except for a few outliers), suggesting those areas are more well-resourced. In contrast, regions in the southeastern section display lighter shades, indicating relatively lower resource availability. \n",
    "    </p>\n",
    "  </div>\n",
    "\n",
    "</div>\n"
   ]
  },
  {
   "cell_type": "markdown",
   "id": "c917e6d1-a264-452d-8fa1-76475957c847",
   "metadata": {},
   "source": [
    "#### 3.2.3 Notable Trends or Regions\n",
    "<div style=\"text-align: center;\">\n",
    "  <img src=\"Graphs/K_table_2.png\" alt=\"Score Distribution\" style=\"width:30%;\">\n",
    "</div>\n",
    "The table shows the top three and bottom three SA2 regions by final score. These highlight the range of resource access across Inner West, with noticeable gaps between the highest and lowest scoring areas. \n",
    "This reflects particular scores of interest and uneven distribution worth noting in the analysis."
   ]
  },
  {
   "cell_type": "markdown",
   "id": "9865412c-4f80-443c-ac2b-2f8615149497",
   "metadata": {},
   "source": [
    "### Analysis for North Sydney and Hornsby \n",
    "\n"
   ]
  },
  {
   "cell_type": "markdown",
   "id": "45f9fe22-79cb-40a3-8a81-9cd482bd1277",
   "metadata": {},
   "source": [
    "  <div style=\"text-align: center;\">\n",
    "    <img src=\"Graphs/northSydney_histogram.png\" alt=\"Score Distribution Bar Chart\" style=\"height: 280px;\"><br>\n",
    "    <p style=\"max-width: 300px; margin: 8px auto;\">\n",
    "  </div>\n",
    "\n",
    "  Turramurra dispays the highest score, closest to 1. Suggesting a high rank (in terms of combined z-scores), likely due to strong availability of stops, schools, businesses and parks. Pymble and St Leonards - Naremburn follow, which concluded an excellent access to these resources. All top 10 aread have a real score > 0.7, which means they are well above average based on the sigmoid transfermation of total z-scores. "
   ]
  },
  {
   "cell_type": "markdown",
   "id": "7d30338c-2975-453f-b999-98e27e0573a3",
   "metadata": {},
   "source": [
    "  <div style=\"text-align: center;\">\n",
    "    <img src=\"Graphs/northSydney_bottom10.png\" alt=\"Score Distribution Bar Chart\" style=\"height: 280px;\"><br>\n",
    "    <p style=\"max-width: 300px; margin: 8px auto;\">\n",
    "  </div>"
   ]
  },
  {
   "cell_type": "markdown",
   "id": "34e9b206-01ed-4574-b928-1ab8d87e3f61",
   "metadata": {},
   "source": [
    "## 4. Correlation Analysis (2 marks)\n",
    "\n",
    "### 4.1\n",
    "\n",
    "### 4.2\n"
   ]
  },
  {
   "cell_type": "markdown",
   "id": "69096286-4a24-4de8-b013-e3aa177ddd4c",
   "metadata": {},
   "source": [
    "### 4.3 Inner West\n",
    "<div style=\"text-align: center;\">\n",
    "  <img src=\"Graphs/K_scatter.png\" alt=\"Scatter plot\" style=\"width:50%;\">\n",
    "</div>\n",
    "\n",
    "To explore the relationship between final scores and income, a basic correlation check was performed between each SA2 region’s median income and its computed score. The result showed no meaningful linear correlation (correlation coefficient ≈ 0), suggesting that the score constructed in this assignment may not reflect the economic situation of Inner West.\n",
    "\n",
    "### Limitations\n",
    "The result highlights a key limitation in how the final score was calculated. Although stops, schools, parks, and retail businesses are relevant indicators, they may not fully capture the economic or social dynamics of each SA2 region. Other factors — such as housing affordability, health services, or population density — were not included in the score and may play a significant role in shaping access to resources. "
   ]
  },
  {
   "cell_type": "markdown",
   "id": "eae22f9c-38e0-4590-9c8c-08c2b5d89270",
   "metadata": {},
   "source": [
    "## 5. Conclusion\n",
    "Key findings and what they suggest.\n",
    "\n"
   ]
  },
  {
   "cell_type": "markdown",
   "id": "97acfe3b-f5bd-47a9-8bbb-4cf3c242cb02",
   "metadata": {},
   "source": [
    "## 6. References\n",
    "\n",
    "- Australian Bureau of Statistics – Counts of Australian Businesses  \n",
    "  [https://www.abs.gov.au/statistics/economy/business-indicators/counts-australian-businesses-including-entries-and-exits/latest-release#data-downloads](https://www.abs.gov.au/statistics/economy/business-indicators/counts-australian-businesses-including-entries-and-exits/latest-release#data-downloads)\n",
    "\n",
    "- NSW Department of Education – School Catchment Areas  \n",
    "  [https://data.cese.nsw.gov.au/data/dataset/school-intake-zones-catchment-areas-for-nsw-government-schools](https://data.cese.nsw.gov.au/data/dataset/school-intake-zones-catchment-areas-for-nsw-government-schools)\n",
    "\n",
    "- NSW Points of Interest API  \n",
    "  [https://data.nsw.gov.au/data/dataset/nsw-points-of-interest-poi/resource/f4b643b4-a872-4b63-bbb5-5b768bacbc78](https://data.nsw.gov.au/data/dataset/nsw-points-of-interest-poi/resource/f4b643b4-a872-4b63-bbb5-5b768bacbc78)\n",
    "\n",
    "- Transport for NSW – GTFS Timetable Data  \n",
    "  [https://opendata.transport.nsw.gov.au/dataset/timetables-complete-gtfs](https://opendata.transport.nsw.gov.au/dataset/timetables-complete-gtfs)\n"
   ]
  },
  {
   "cell_type": "markdown",
   "id": "3ff54a37-cbda-4dba-83bb-68ebfa53a092",
   "metadata": {},
   "source": [
    "## 7. Appendices\n",
    "- Supplementary tables or extended visuals (if needed)."
   ]
  }
 ],
 "metadata": {
  "kernelspec": {
   "display_name": "Python 3 (ipykernel)",
   "language": "python",
   "name": "python3"
  },
  "language_info": {
   "codemirror_mode": {
    "name": "ipython",
    "version": 3
   },
   "file_extension": ".py",
   "mimetype": "text/x-python",
   "name": "python",
   "nbconvert_exporter": "python",
   "pygments_lexer": "ipython3",
   "version": "3.12.4"
  }
 },
 "nbformat": 4,
 "nbformat_minor": 5
}
