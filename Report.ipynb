{
 "cells": [
  {
   "cell_type": "markdown",
   "id": "a3466712-94ad-4391-bc79-98acb8b8b716",
   "metadata": {},
   "source": [
    "# DATA2001 Assignment - Team 3 🧠📊\n",
    "\n",
    "**Group Name**: Data Princesses\n",
    "\n",
    "**Team Members**: Michella Krishna, Yujia Liu, Katherine Kong\n",
    "\n",
    "**Region Focus**: City and Inner South, North Sydney and Hornsby, Inner West  \n"
   ]
  },
  {
   "cell_type": "markdown",
   "id": "70c654d1-72ef-4ea5-9d20-32791a0643b0",
   "metadata": {},
   "source": [
    "## 📚 Table of Contents\n",
    "\n",
    "1. [Project Overview](#project-overview)  \n",
    "2. [Dataset Overview](#dataset-overview)  \n",
    "3. [Data Preparation (All Regions)](#data-preparation)  \n",
    "4. [SA4 Zone Analyses](#sa4-analyses)  \n",
    "    4.1 [City and Inner South](#city-and-inner-south)  \n",
    "    4.2 [North Sydney and Hornsby](#north-sydney-and-hornsby)        \n",
    "    4.3 [Inner West](#inner-west)  \n",
    "6. [Score Comparison Across SA4 Zones](#score-comparison)  \n",
    "7. [Correlation with Income](#correlation-analysis)  \n",
    "8. [Conclusion and Reflection](#conclusion)\n"
   ]
  },
  {
   "cell_type": "markdown",
   "id": "5fd31cab-6680-4a6e-862f-c2073d0d068e",
   "metadata": {},
   "source": [
    "## 🔎 Project Overview <a name=\"project-overview\"></a>\n"
   ]
  },
  {
   "cell_type": "markdown",
   "id": "3f3bf0d8-9206-4a4d-a6f0-81e9b18dbfec",
   "metadata": {},
   "source": [
    "## 🧪 Data Preparation (All Regions)"
   ]
  },
  {
   "cell_type": "code",
   "execution_count": 18,
   "id": "56b01cc4-5744-4571-b556-c0b13ae312c8",
   "metadata": {},
   "outputs": [
    {
     "name": "stdout",
     "output_type": "stream",
     "text": [
      "<class 'pandas.core.frame.DataFrame'>\n",
      "RangeIndex: 12217 entries, 0 to 12216\n",
      "Data columns (total 11 columns):\n",
      " #   Column                  Non-Null Count  Dtype \n",
      "---  ------                  --------------  ----- \n",
      " 0   industry_code           12217 non-null  object\n",
      " 1   industry_name           12217 non-null  object\n",
      " 2   sa2_code                12217 non-null  int64 \n",
      " 3   sa2_name                12217 non-null  object\n",
      " 4   0_to_50k_businesses     12217 non-null  int64 \n",
      " 5   50k_to_200k_businesses  12217 non-null  int64 \n",
      " 6   200k_to_2m_businesses   12217 non-null  int64 \n",
      " 7   2m_to_5m_businesses     12217 non-null  int64 \n",
      " 8   5m_to_10m_businesses    12217 non-null  int64 \n",
      " 9   10m_or_more_businesses  12217 non-null  int64 \n",
      " 10  total_businesses        12217 non-null  int64 \n",
      "dtypes: int64(8), object(3)\n",
      "memory usage: 1.0+ MB\n"
     ]
    },
    {
     "data": {
      "text/plain": [
       "industry_code             0\n",
       "industry_name             0\n",
       "sa2_code                  0\n",
       "sa2_name                  0\n",
       "0_to_50k_businesses       0\n",
       "50k_to_200k_businesses    0\n",
       "200k_to_2m_businesses     0\n",
       "2m_to_5m_businesses       0\n",
       "5m_to_10m_businesses      0\n",
       "10m_or_more_businesses    0\n",
       "total_businesses          0\n",
       "dtype: int64"
      ]
     },
     "execution_count": 18,
     "metadata": {},
     "output_type": "execute_result"
    }
   ],
   "source": [
    "import pandas as pd\n",
    "\n",
    "# Load the dataset\n",
    "businesses = pd.read_csv(\"Businesses.csv\")\n",
    "\n",
    "# Preview the first few rows\n",
    "businesses.head()\n",
    "\n",
    "# Check column names, data types, and non-null counts\n",
    "businesses.info()\n",
    "\n",
    "businesses.isnull().sum()\n",
    "\n",
    "# Rename columns\n",
    "\n",
    "# Export the cleaned dataset"
   ]
  },
  {
   "cell_type": "code",
   "execution_count": null,
   "id": "d4899808-10ae-4a38-b06c-8a9862b38365",
   "metadata": {},
   "outputs": [],
   "source": []
  }
 ],
 "metadata": {
  "kernelspec": {
   "display_name": "Python 3 (ipykernel)",
   "language": "python",
   "name": "python3"
  },
  "language_info": {
   "codemirror_mode": {
    "name": "ipython",
    "version": 3
   },
   "file_extension": ".py",
   "mimetype": "text/x-python",
   "name": "python",
   "nbconvert_exporter": "python",
   "pygments_lexer": "ipython3",
   "version": "3.12.4"
  }
 },
 "nbformat": 4,
 "nbformat_minor": 5
}
